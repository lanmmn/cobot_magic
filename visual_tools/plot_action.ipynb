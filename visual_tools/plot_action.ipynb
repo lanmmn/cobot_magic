{
 "cells": [
  {
   "cell_type": "code",
   "execution_count": 1,
   "metadata": {},
   "outputs": [
    {
     "name": "stdout",
     "output_type": "stream",
     "text": [
      "action\n",
      "base_action\n",
      "observations\n",
      "observations/effort\n",
      "observations/images\n",
      "observations/images/cam_high\n",
      "observations/images/cam_left_wrist\n",
      "observations/images/cam_right_wrist\n",
      "observations/images_depth\n",
      "observations/images_depth/cam_high\n",
      "observations/images_depth/cam_left_wrist\n",
      "observations/images_depth/cam_right_wrist\n",
      "observations/qpos\n",
      "observations/qvel\n"
     ]
    }
   ],
   "source": [
    "# visual hdf5 keys\n",
    "import h5py\n",
    "file_path=\"/media/jyxc/Aloha/pumkin_pick_clean/aloha_mobile_dummy/episode_39.hdf5\"\n",
    "\n",
    "def list_hdf5_keys(file_path):\n",
    "    keys = []\n",
    "\n",
    "    def visit_func(name, node):\n",
    "        keys.append(name)\n",
    "\n",
    "    with h5py.File(file_path, 'r') as hdf_file:\n",
    "        hdf_file.visititems(visit_func)\n",
    "    \n",
    "    return keys\n",
    "\n",
    "# 使用示例\n",
    "\n",
    "keys = list_hdf5_keys(file_path)\n",
    "for key in keys:\n",
    "    print(key)"
   ]
  },
  {
   "attachments": {},
   "cell_type": "markdown",
   "metadata": {},
   "source": []
  }
 ],
 "metadata": {
  "kernelspec": {
   "display_name": "aloha",
   "language": "python",
   "name": "python3"
  },
  "language_info": {
   "codemirror_mode": {
    "name": "ipython",
    "version": 3
   },
   "file_extension": ".py",
   "mimetype": "text/x-python",
   "name": "python",
   "nbconvert_exporter": "python",
   "pygments_lexer": "ipython3",
   "version": "3.8.19"
  },
  "orig_nbformat": 4
 },
 "nbformat": 4,
 "nbformat_minor": 2
}
