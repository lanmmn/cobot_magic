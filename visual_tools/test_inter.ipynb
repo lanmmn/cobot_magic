{
 "cells": [
  {
   "cell_type": "code",
   "execution_count": 14,
   "metadata": {},
   "outputs": [
    {
     "name": "stdout",
     "output_type": "stream",
     "text": [
      "post_action: [[1. 1. 1. 1. 1. 1. 7. 1. 1. 1. 1. 1. 1. 7.]]\n"
     ]
    },
    {
     "data": {
      "text/plain": [
       "0"
      ]
     },
     "execution_count": 14,
     "metadata": {},
     "output_type": "execute_result"
    }
   ],
   "source": [
    "import numpy as np\n",
    "import matplotlib.pyplot as plt\n",
    "from scipy.interpolate import interp1d, CubicSpline\n",
    "import math\n",
    "from mpl_toolkits.mplot3d import Axes3D\n",
    "\n",
    "\n",
    "# 创建模拟数据和参数\n",
    "class Args:\n",
    "    def __init__(self):\n",
    "        self.arm_steps_length = [0.1] * 7  # 7个关节\n",
    "        self.chunk_size = 50\n",
    "\n",
    "args = Args()\n",
    "\n",
    "# 模拟前一个动作和当前动作\n",
    "pre_action = np.array([0, 0, 0, 0, 0, 0, 0, 0, 0, 0, 0, 0, 0, 0])\n",
    "actions = np.array([[1, 1, 1, 1, 1, 1, 7, 1, 1, 1, 1, 1, 1, 7]])\n",
    "\n",
    "# 模拟统计数据\n",
    "stats = {\n",
    "    'qpos_mean': np.zeros(14),\n",
    "    'qpos_std': np.ones(14)\n",
    "}\n",
    "\n",
    "# 假设这是您的原始函数\n",
    "steps = np.concatenate((np.array(args.arm_steps_length), np.array(args.arm_steps_length)), axis=0)\n",
    "pre_process = lambda s_qpos: (s_qpos - stats['qpos_mean']) / stats['qpos_std']\n",
    "post_process = lambda a: a * stats['qpos_std'] + stats['qpos_mean']\n",
    "\n",
    "result = [pre_action]\n",
    "post_action = post_process(actions[0]).reshape(1, -1)\n",
    "print(\"post_action:\", post_action)\n",
    "\n",
    "# 分离夹爪和其他关节\n",
    "gripper_indices = [6, 13]\n",
    "arm_indices = [i for i in range(len(pre_action)) if i not in gripper_indices]\n",
    "\n",
    "# 计算arm和gripper的最大差异\n",
    "arm_diffs = np.abs(pre_action[arm_indices] - post_action[:, arm_indices])\n",
    "gripper_diffs = np.abs(pre_action[gripper_indices] - post_action[:, gripper_indices])\n",
    "max_arm_diff_index = np.argmax(np.sum(arm_diffs, axis=1))\n",
    "max_gripper_diff_index = np.argmax(np.sum(gripper_diffs, axis=1))\n",
    "\n",
    "# 使用更大的索引确保同步\n",
    "max_diff_index = max(max_arm_diff_index, max_gripper_diff_index)\n",
    "max_diff_index\n"
   ]
  },
  {
   "cell_type": "code",
   "execution_count": 16,
   "metadata": {},
   "outputs": [
    {
     "ename": "ValueError",
     "evalue": "The number of derivatives at boundaries does not match: expected 1, got 0+0",
     "output_type": "error",
     "traceback": [
      "\u001b[0;31m---------------------------------------------------------------------------\u001b[0m",
      "\u001b[0;31mValueError\u001b[0m                                Traceback (most recent call last)",
      "Cell \u001b[0;32mIn[16], line 17\u001b[0m\n\u001b[1;32m     15\u001b[0m x \u001b[39m=\u001b[39m np\u001b[39m.\u001b[39marray([\u001b[39m0\u001b[39m, arm_steps])\n\u001b[1;32m     16\u001b[0m y \u001b[39m=\u001b[39m np\u001b[39m.\u001b[39marray([pre_action[j], post_action[max_diff_index][j]])\n\u001b[0;32m---> 17\u001b[0m f \u001b[39m=\u001b[39m interp1d(x, y, kind\u001b[39m=\u001b[39;49m\u001b[39m'\u001b[39;49m\u001b[39mquadratic\u001b[39;49m\u001b[39m'\u001b[39;49m, fill_value\u001b[39m=\u001b[39;49m\u001b[39m\"\u001b[39;49m\u001b[39mextrapolate\u001b[39;49m\u001b[39m\"\u001b[39;49m)\n\u001b[1;32m     18\u001b[0m x_new \u001b[39m=\u001b[39m np\u001b[39m.\u001b[39mlinspace(\u001b[39m0\u001b[39m, arm_steps, arm_steps \u001b[39m+\u001b[39m \u001b[39m1\u001b[39m)[\u001b[39m1\u001b[39m:]\n\u001b[1;32m     19\u001b[0m gripper_inter\u001b[39m.\u001b[39mappend(f(x_new))\n",
      "File \u001b[0;32m~/.local/lib/python3.8/site-packages/scipy/interpolate/_interpolate.py:616\u001b[0m, in \u001b[0;36minterp1d.__init__\u001b[0;34m(***failed resolving arguments***)\u001b[0m\n\u001b[1;32m    613\u001b[0m         yy \u001b[39m=\u001b[39m np\u001b[39m.\u001b[39mones_like(\u001b[39mself\u001b[39m\u001b[39m.\u001b[39m_y)\n\u001b[1;32m    614\u001b[0m         rewrite_nan \u001b[39m=\u001b[39m \u001b[39mTrue\u001b[39;00m\n\u001b[0;32m--> 616\u001b[0m \u001b[39mself\u001b[39m\u001b[39m.\u001b[39m_spline \u001b[39m=\u001b[39m make_interp_spline(xx, yy, k\u001b[39m=\u001b[39;49morder,\n\u001b[1;32m    617\u001b[0m                                   check_finite\u001b[39m=\u001b[39;49m\u001b[39mFalse\u001b[39;49;00m)\n\u001b[1;32m    618\u001b[0m \u001b[39mif\u001b[39;00m rewrite_nan:\n\u001b[1;32m    619\u001b[0m     \u001b[39mself\u001b[39m\u001b[39m.\u001b[39m_call \u001b[39m=\u001b[39m \u001b[39mself\u001b[39m\u001b[39m.\u001b[39m\u001b[39m__class__\u001b[39m\u001b[39m.\u001b[39m_call_nan_spline\n",
      "File \u001b[0;32m~/.local/lib/python3.8/site-packages/scipy/interpolate/_bsplines.py:1368\u001b[0m, in \u001b[0;36mmake_interp_spline\u001b[0;34m(x, y, k, t, bc_type, axis, check_finite)\u001b[0m\n\u001b[1;32m   1365\u001b[0m nt \u001b[39m=\u001b[39m t\u001b[39m.\u001b[39msize \u001b[39m-\u001b[39m k \u001b[39m-\u001b[39m \u001b[39m1\u001b[39m\n\u001b[1;32m   1367\u001b[0m \u001b[39mif\u001b[39;00m nt \u001b[39m-\u001b[39m n \u001b[39m!=\u001b[39m nleft \u001b[39m+\u001b[39m nright:\n\u001b[0;32m-> 1368\u001b[0m     \u001b[39mraise\u001b[39;00m \u001b[39mValueError\u001b[39;00m(\u001b[39m\"\u001b[39m\u001b[39mThe number of derivatives at boundaries does not \u001b[39m\u001b[39m\"\u001b[39m\n\u001b[1;32m   1369\u001b[0m                      \u001b[39m\"\u001b[39m\u001b[39mmatch: expected \u001b[39m\u001b[39m%s\u001b[39;00m\u001b[39m, got \u001b[39m\u001b[39m%s\u001b[39;00m\u001b[39m+\u001b[39m\u001b[39m%s\u001b[39;00m\u001b[39m\"\u001b[39m \u001b[39m%\u001b[39m (nt\u001b[39m-\u001b[39mn, nleft, nright))\n\u001b[1;32m   1371\u001b[0m \u001b[39m# bail out if the `y` array is zero-sized\u001b[39;00m\n\u001b[1;32m   1372\u001b[0m \u001b[39mif\u001b[39;00m y\u001b[39m.\u001b[39msize \u001b[39m==\u001b[39m \u001b[39m0\u001b[39m:\n",
      "\u001b[0;31mValueError\u001b[0m: The number of derivatives at boundaries does not match: expected 1, got 0+0"
     ]
    }
   ],
   "source": [
    "\n",
    "for i in range(max_diff_index, post_action.shape[0]):\n",
    "    # 计算arm的插值步数\n",
    "    arm_steps = max([math.ceil(math.fabs(result[-1][j] - post_action[i][j])/steps[j]) for j in arm_indices])\n",
    "    arm_steps = max(arm_steps, 1)  # 确保至少有一步\n",
    "\n",
    "    # 对arm进行插值\n",
    "    arm_inter = []\n",
    "    for j in arm_indices:\n",
    "        arm_inter.append(np.linspace(result[-1][j], post_action[i][j], arm_steps + 1)[1:])\n",
    "    arm_inter = np.array(arm_inter).T\n",
    "\n",
    "    # 对夹爪进行二次插值\n",
    "    gripper_inter = []\n",
    "    for j in gripper_indices:\n",
    "        x = np.array([0, arm_steps])\n",
    "        y = np.array([pre_action[j], post_action[max_diff_index][j]])\n",
    "        f = interp1d(x, y, kind='quadratic', fill_value=\"extrapolate\")\n",
    "        x_new = np.linspace(0, arm_steps, arm_steps + 1)[1:]\n",
    "        gripper_inter.append(f(x_new))\n",
    "    gripper_inter = np.array(gripper_inter).T\n",
    "\n",
    "    # 合并arm和gripper的插值结果\n",
    "    inter = np.zeros((arm_steps, len(pre_action)))\n",
    "    inter[:, arm_indices] = arm_inter\n",
    "    inter[:, gripper_indices] = gripper_inter\n",
    "\n",
    "    result.extend(inter)\n",
    "\n",
    "# 确保结果长度正确\n",
    "result = np.array(result[1:args.chunk_size+1])\n",
    "if len(result) < args.chunk_size:\n",
    "    result = np.pad(result, ((0, args.chunk_size - len(result)), (0, 0)), mode='edge')\n",
    "\n",
    "result = pre_process(result)\n",
    "\n",
    "# print(result[np.newaxis, :])"
   ]
  },
  {
   "cell_type": "code",
   "execution_count": null,
   "metadata": {},
   "outputs": [],
   "source": [
    "\n",
    "# 准备绘图数据\n",
    "original_trajectory = np.vstack((pre_action, actions[0]))\n",
    "interpolated_trajectory = result[0]\n",
    "\n",
    "# 创建图形\n",
    "fig = plt.figure(figsize=(15, 10))\n",
    "\n",
    "# 2D plot for each joint\n",
    "for i in range(14):\n",
    "    ax = fig.add_subplot(3, 5, i+1)\n",
    "    ax.plot(range(2), original_trajectory[:, i], 'ro-', label='Original')\n",
    "    ax.plot(np.linspace(0, 1, len(interpolated_trajectory)), interpolated_trajectory[:, i], 'b-', label='Interpolated')\n",
    "    ax.set_title(f'Joint {i+1}')\n",
    "    ax.legend()\n",
    "\n",
    "# 3D plot for the first 3 joints\n",
    "ax = fig.add_subplot(3, 5, 15, projection='3d')\n",
    "ax.plot(original_trajectory[:, 0], original_trajectory[:, 1], original_trajectory[:, 2], 'ro-', label='Original')\n",
    "ax.plot(interpolated_trajectory[:, 0], interpolated_trajectory[:, 1], interpolated_trajectory[:, 2], 'b-', label='Interpolated')\n",
    "ax.set_xlabel('Joint 1')\n",
    "ax.set_ylabel('Joint 2')\n",
    "ax.set_zlabel('Joint 3')\n",
    "ax.legend()\n",
    "\n",
    "plt.tight_layout()\n",
    "plt.show()\n",
    "\n",
    "# 打印一些统计信息\n",
    "print(f\"Original trajectory shape: {original_trajectory.shape}\")\n",
    "print(f\"Interpolated trajectory shape: {interpolated_trajectory.shape}\")\n",
    "print(f\"Number of interpolated steps: {len(interpolated_trajectory)}\")"
   ]
  }
 ],
 "metadata": {
  "kernelspec": {
   "display_name": "aloha",
   "language": "python",
   "name": "python3"
  },
  "language_info": {
   "codemirror_mode": {
    "name": "ipython",
    "version": 3
   },
   "file_extension": ".py",
   "mimetype": "text/x-python",
   "name": "python",
   "nbconvert_exporter": "python",
   "pygments_lexer": "ipython3",
   "version": "3.8.19"
  },
  "orig_nbformat": 4
 },
 "nbformat": 4,
 "nbformat_minor": 2
}
