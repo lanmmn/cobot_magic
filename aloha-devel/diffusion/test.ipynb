{
 "cells": [
  {
   "cell_type": "code",
   "execution_count": 3,
   "metadata": {},
   "outputs": [],
   "source": [
    "from utils import load_data\n",
    "import torch\n",
    "import numpy as np\n",
    "import os\n",
    "import pickle\n",
    "import argparse\n",
    "from einops import rearrange\n",
    "\n",
    "from utils import compute_dict_mean, set_seed, detach_dict # helper functions\n",
    "from policy import ACTPolicy, CNNMLPPolicy, DiffusionPolicy\n",
    "import collections\n",
    "from collections import deque\n",
    "\n",
    "\n",
    "import time\n",
    "import threading\n",
    "import math\n",
    "import threading\n",
    "\n",
    "\n",
    "import sys\n",
    "sys.path.append(\"./\")\n"
   ]
  },
  {
   "cell_type": "code",
   "execution_count": 6,
   "metadata": {},
   "outputs": [],
   "source": [
    "def make_policy(policy_class, policy_config):\n",
    "    if policy_class == 'ACT':\n",
    "        policy = ACTPolicy(policy_config)\n",
    "    elif policy_class == 'CNNMLP':\n",
    "        policy = CNNMLPPolicy(policy_config)\n",
    "    elif policy_class == 'Diffusion':\n",
    "        policy = DiffusionPolicy(policy_config)\n",
    "    else:\n",
    "        raise NotImplementedError\n",
    "    return policy"
   ]
  },
  {
   "cell_type": "code",
   "execution_count": 7,
   "metadata": {},
   "outputs": [],
   "source": [
    "task_config = {'camera_names': ['cam_high',  'cam_right_wrist']}\n",
    "\n",
    "policy_config = {'lr':1e-5,\n",
    "                         'lr_backbone': 1e-5,\n",
    "                         'backbone': 'resnet18',\n",
    "                         'masks':None,\n",
    "                         'weight_decay': 1e-4,\n",
    "                         'dilation': None,\n",
    "                         'position_embedding': \"sine\",\n",
    "                         'loss_function':\"l1\",\n",
    "                         'chunk_size': 4,     # 查询\n",
    "                         'camera_names':['cam_high',  'cam_right_wrist'],\n",
    "                         'use_depth_image': False,\n",
    "                         'use_robot_base': False,\n",
    "                         'observation_horizon': 1,\n",
    "                         'action_horizon': 8,\n",
    "                         'num_inference_timesteps': 10,\n",
    "                         'ema_power': 0.75\n",
    "                         }"
   ]
  },
  {
   "cell_type": "code",
   "execution_count": 9,
   "metadata": {},
   "outputs": [
    {
     "name": "stderr",
     "output_type": "stream",
     "text": [
      "/home/jyxc/mambaforge/envs/aloha/lib/python3.8/site-packages/torchvision/models/_utils.py:208: UserWarning: The parameter 'pretrained' is deprecated since 0.13 and may be removed in the future, please use 'weights' instead.\n",
      "  warnings.warn(\n",
      "/home/jyxc/mambaforge/envs/aloha/lib/python3.8/site-packages/torchvision/models/_utils.py:223: UserWarning: Arguments other than a weight enum or `None` for 'weights' are deprecated since 0.13 and may be removed in the future. The current behavior is equivalent to passing `weights=None`.\n",
      "  warnings.warn(msg)\n"
     ]
    },
    {
     "name": "stdout",
     "output_type": "stream",
     "text": [
      "number of parameters: 6.715418e+07\n",
      "number of parameters: 89.55M\n"
     ]
    }
   ],
   "source": [
    "policy = make_policy(\"Diffusion\", policy_config)"
   ]
  },
  {
   "cell_type": "code",
   "execution_count": 11,
   "metadata": {},
   "outputs": [
    {
     "name": "stdout",
     "output_type": "stream",
     "text": [
      "\n",
      "Data from: /home/jyxc/GitHub/act-plus-plus/data/single_arm_bottle2-post\n",
      "\n",
      "qpos shape: (200, 7)\n",
      "qpos shape: (200, 7)\n",
      "qpos shape: (200, 7)\n",
      "qpos shape: (200, 7)\n",
      "qpos shape: (200, 7)\n",
      "qpos shape: (200, 7)\n",
      "qpos shape: (200, 7)\n",
      "qpos shape: (200, 7)\n",
      "qpos shape: (200, 7)\n",
      "qpos shape: (200, 7)\n"
     ]
    }
   ],
   "source": [
    "train_dataloader, val_dataloader, stats, _ = load_data(\"/home/jyxc/GitHub/act-plus-plus/data/single_arm_bottle2-post\", 10, 0,\n",
    "                                                           False, False, ['cam_high',  'cam_right_wrist'],\n",
    "                                                          1, 1)"
   ]
  },
  {
   "cell_type": "code",
   "execution_count": 19,
   "metadata": {},
   "outputs": [
    {
     "name": "stdout",
     "output_type": "stream",
     "text": [
      "Loaded model\n",
      "Loaded EMA\n"
     ]
    }
   ],
   "source": [
    "state_dict = torch.load(\"/home/jyxc/GitHub/cobot_magic/aloha-devel/diffusion/model_save_observation_horizon1_observation_horizon8/policy_best.ckpt\")\n",
    "new_state_dict = {}\n",
    "for key, value in state_dict.items():\n",
    "    if key in [\"model.is_pad_head.weight\", \"model.is_pad_head.bias\"]:\n",
    "        continue\n",
    "    if key in [\"model.input_proj_next_action.weight\", \"model.input_proj_next_action.bias\"]:\n",
    "        continue\n",
    "    new_state_dict[key] = value\n",
    "loading_status = policy.deserialize(new_state_dict)"
   ]
  },
  {
   "cell_type": "code",
   "execution_count": 20,
   "metadata": {},
   "outputs": [],
   "source": [
    "def forward_pass(policy_config, data, policy):\n",
    "    #print(\"policy config:\", policy_config)\n",
    "    image_data, image_depth_data, qpos_data, action_data, action_is_pad = data\n",
    "    # pdb.set_trace()\n",
    "    # if policy_config['select_arm']:\n",
    "    #     qpos_data = qpos_data[:, 7:]\n",
    "    #     action_data = action_data[:, :, 7:]\n",
    "        \n",
    "    (image_data, qpos_data, action_data, action_is_pad) = (image_data.cuda(), qpos_data.cuda(),\n",
    "                                                           action_data.cuda(), action_is_pad.cuda())\n",
    "    if policy_config['use_depth_image']:\n",
    "        image_depth_data = image_depth_data.cuda()\n",
    "    else:\n",
    "        image_depth_data = None\n",
    "    return policy(image_data, image_depth_data, qpos_data, action_data, action_is_pad)\n",
    "\n"
   ]
  },
  {
   "cell_type": "code",
   "execution_count": 24,
   "metadata": {},
   "outputs": [],
   "source": [
    "image_data, image_depth_data, qpos_data, action_data, action_is_pad = data"
   ]
  },
  {
   "cell_type": "code",
   "execution_count": 35,
   "metadata": {},
   "outputs": [
    {
     "data": {
      "text/plain": [
       "(3, 480, 640)"
      ]
     },
     "execution_count": 35,
     "metadata": {},
     "output_type": "execute_result"
    }
   ],
   "source": [
    "(image_data[0][0].numpy()*255).astype(np.uint8).shape"
   ]
  },
  {
   "cell_type": "code",
   "execution_count": 34,
   "metadata": {},
   "outputs": [
    {
     "ename": "TypeError",
     "evalue": "Cannot handle this data type: (1, 1, 640), |u1",
     "output_type": "error",
     "traceback": [
      "\u001b[0;31m---------------------------------------------------------------------------\u001b[0m",
      "\u001b[0;31mKeyError\u001b[0m                                  Traceback (most recent call last)",
      "File \u001b[0;32m~/mambaforge/envs/aloha/lib/python3.8/site-packages/PIL/Image.py:3130\u001b[0m, in \u001b[0;36mfromarray\u001b[0;34m(obj, mode)\u001b[0m\n\u001b[1;32m   3129\u001b[0m \u001b[38;5;28;01mtry\u001b[39;00m:\n\u001b[0;32m-> 3130\u001b[0m     mode, rawmode \u001b[38;5;241m=\u001b[39m \u001b[43m_fromarray_typemap\u001b[49m\u001b[43m[\u001b[49m\u001b[43mtypekey\u001b[49m\u001b[43m]\u001b[49m\n\u001b[1;32m   3131\u001b[0m \u001b[38;5;28;01mexcept\u001b[39;00m \u001b[38;5;167;01mKeyError\u001b[39;00m \u001b[38;5;28;01mas\u001b[39;00m e:\n",
      "\u001b[0;31mKeyError\u001b[0m: ((1, 1, 640), '|u1')",
      "\nThe above exception was the direct cause of the following exception:\n",
      "\u001b[0;31mTypeError\u001b[0m                                 Traceback (most recent call last)",
      "Cell \u001b[0;32mIn[34], line 2\u001b[0m\n\u001b[1;32m      1\u001b[0m \u001b[38;5;28;01mimport\u001b[39;00m \u001b[38;5;21;01mPIL\u001b[39;00m\n\u001b[0;32m----> 2\u001b[0m \u001b[43mPIL\u001b[49m\u001b[38;5;241;43m.\u001b[39;49m\u001b[43mImage\u001b[49m\u001b[38;5;241;43m.\u001b[39;49m\u001b[43mfromarray\u001b[49m\u001b[43m(\u001b[49m\u001b[43m(\u001b[49m\u001b[43mimage_data\u001b[49m\u001b[43m[\u001b[49m\u001b[38;5;241;43m0\u001b[39;49m\u001b[43m]\u001b[49m\u001b[43m[\u001b[49m\u001b[38;5;241;43m0\u001b[39;49m\u001b[43m]\u001b[49m\u001b[38;5;241;43m.\u001b[39;49m\u001b[43mnumpy\u001b[49m\u001b[43m(\u001b[49m\u001b[43m)\u001b[49m\u001b[38;5;241;43m*\u001b[39;49m\u001b[38;5;241;43m255\u001b[39;49m\u001b[43m)\u001b[49m\u001b[38;5;241;43m.\u001b[39;49m\u001b[43mastype\u001b[49m\u001b[43m(\u001b[49m\u001b[43mnp\u001b[49m\u001b[38;5;241;43m.\u001b[39;49m\u001b[43muint8\u001b[49m\u001b[43m)\u001b[49m\u001b[43m)\u001b[49m\n",
      "File \u001b[0;32m~/mambaforge/envs/aloha/lib/python3.8/site-packages/PIL/Image.py:3134\u001b[0m, in \u001b[0;36mfromarray\u001b[0;34m(obj, mode)\u001b[0m\n\u001b[1;32m   3132\u001b[0m         typekey_shape, typestr \u001b[38;5;241m=\u001b[39m typekey\n\u001b[1;32m   3133\u001b[0m         msg \u001b[38;5;241m=\u001b[39m \u001b[38;5;124mf\u001b[39m\u001b[38;5;124m\"\u001b[39m\u001b[38;5;124mCannot handle this data type: \u001b[39m\u001b[38;5;132;01m{\u001b[39;00mtypekey_shape\u001b[38;5;132;01m}\u001b[39;00m\u001b[38;5;124m, \u001b[39m\u001b[38;5;132;01m{\u001b[39;00mtypestr\u001b[38;5;132;01m}\u001b[39;00m\u001b[38;5;124m\"\u001b[39m\n\u001b[0;32m-> 3134\u001b[0m         \u001b[38;5;28;01mraise\u001b[39;00m \u001b[38;5;167;01mTypeError\u001b[39;00m(msg) \u001b[38;5;28;01mfrom\u001b[39;00m \u001b[38;5;21;01me\u001b[39;00m\n\u001b[1;32m   3135\u001b[0m \u001b[38;5;28;01melse\u001b[39;00m:\n\u001b[1;32m   3136\u001b[0m     rawmode \u001b[38;5;241m=\u001b[39m mode\n",
      "\u001b[0;31mTypeError\u001b[0m: Cannot handle this data type: (1, 1, 640), |u1"
     ]
    }
   ],
   "source": [
    "import PIL\n",
    "PIL.Image.fromarray((image_data[0][0].numpy()*255).astype(np.uint8))"
   ]
  },
  {
   "cell_type": "code",
   "execution_count": 25,
   "metadata": {},
   "outputs": [
    {
     "name": "stdout",
     "output_type": "stream",
     "text": [
      "torch.Size([1, 2, 3, 480, 640])\n",
      "torch.Size([1, 1])\n",
      "torch.Size([1, 7])\n",
      "torch.Size([1, 200, 7])\n",
      "torch.Size([1, 200])\n"
     ]
    }
   ],
   "source": [
    "for i in data:\n",
    "    print(i.size())"
   ]
  },
  {
   "cell_type": "code",
   "execution_count": 21,
   "metadata": {},
   "outputs": [],
   "source": [
    "\n",
    "\n",
    "for batch_idx, data in enumerate(val_dataloader):\n",
    "                \n",
    "                forward_dict, result = forward_pass(policy_config, data, policy)\n",
    "                break"
   ]
  },
  {
   "cell_type": "code",
   "execution_count": 22,
   "metadata": {},
   "outputs": [
    {
     "data": {
      "text/plain": [
       "{'l2_loss': tensor(0.0096, device='cuda:0', grad_fn=<MeanBackward0>),\n",
       " 'loss': tensor(0.0096, device='cuda:0', grad_fn=<MeanBackward0>)}"
      ]
     },
     "execution_count": 22,
     "metadata": {},
     "output_type": "execute_result"
    }
   ],
   "source": [
    "forward_dict"
   ]
  },
  {
   "cell_type": "code",
   "execution_count": 16,
   "metadata": {},
   "outputs": [
    {
     "data": {
      "text/plain": [
       "torch.Size([1, 200, 7])"
      ]
     },
     "execution_count": 16,
     "metadata": {},
     "output_type": "execute_result"
    }
   ],
   "source": [
    "result[0].shape"
   ]
  }
 ],
 "metadata": {
  "kernelspec": {
   "display_name": "aloha",
   "language": "python",
   "name": "python3"
  },
  "language_info": {
   "codemirror_mode": {
    "name": "ipython",
    "version": 3
   },
   "file_extension": ".py",
   "mimetype": "text/x-python",
   "name": "python",
   "nbconvert_exporter": "python",
   "pygments_lexer": "ipython3",
   "version": "3.8.19"
  }
 },
 "nbformat": 4,
 "nbformat_minor": 2
}
